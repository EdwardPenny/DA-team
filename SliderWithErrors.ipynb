{
 "cells": [
  {
   "cell_type": "code",
   "execution_count": 1,
   "metadata": {},
   "outputs": [],
   "source": [
    "import numpy as np \n",
    "import matplotlib.pyplot as plt\n",
    "import astropy.constants as c\n",
    "from scipy.signal import find_peaks\n",
    "from scipy.signal import peak_prominences\n",
    "from scipy.signal import peak_widths\n",
    "from scipy.optimize import curve_fit\n",
    "import math\n",
    "from statistics import stdev\n",
    "from scipy.integrate import quad\n",
    "import matplotlib.pyplot as plt\n",
    "from matplotlib.widgets import Slider, Button, RadioButtons"
   ]
  },
  {
   "cell_type": "code",
   "execution_count": 2,
   "metadata": {},
   "outputs": [
    {
     "name": "stdout",
     "output_type": "stream",
     "text": [
      "(6, 50)\n"
     ]
    }
   ],
   "source": [
    "data=np.genfromtxt('Kypointsrange(0, 20).txt', delimiter=' ')\n",
    "extradata=np.genfromtxt('Kotherstuffrange(0, 20).txt', delimiter=' ')\n",
    "\n",
    "Stars = np.linspace(1, 50, 50)\n",
    "GG=np.genfromtxt('Star Quiz data 50 stars 6 testers',delimiter=' ')\n",
    "GG=np.array(GG)\n",
    "Quizdata=GG.reshape((int(6),len(Stars)))\n",
    "print(Quizdata.shape)"
   ]
  },
  {
   "cell_type": "code",
   "execution_count": 3,
   "metadata": {},
   "outputs": [],
   "source": [
    "def most_frequent(List):\n",
    "    List=list(List)\n",
    "    return max(set(List), key = List.count)"
   ]
  },
  {
   "cell_type": "code",
   "execution_count": 4,
   "metadata": {},
   "outputs": [
    {
     "name": "stdout",
     "output_type": "stream",
     "text": [
      "1.0\n"
     ]
    }
   ],
   "source": [
    "mode = most_frequent(Quizdata[0])\n",
    "print(mode)"
   ]
  },
  {
   "cell_type": "code",
   "execution_count": 5,
   "metadata": {},
   "outputs": [],
   "source": [
    "maybe_stars=[]\n",
    "yes_stars=[]"
   ]
  },
  {
   "cell_type": "code",
   "execution_count": 6,
   "metadata": {},
   "outputs": [
    {
     "name": "stdout",
     "output_type": "stream",
     "text": [
      "[2.0, 5.0, 6.0, 7.0, 11.0, 14.0, 16.0, 26.0, 29.0, 30.0, 34.0, 44.0]\n",
      "[1.0, 4.0, 8.0, 13.0, 15.0]\n"
     ]
    }
   ],
   "source": [
    "for n in Stars: \n",
    "    Q=most_frequent(Quizdata[:,int(n)-1])\n",
    "    if Q==0:\n",
    "        maybe_stars.append(n)\n",
    "    if Q==2:\n",
    "        yes_stars.append(n)\n",
    "        \n",
    "print(maybe_stars)\n",
    "print(yes_stars)\n",
    "        "
   ]
  },
  {
   "cell_type": "code",
   "execution_count": 7,
   "metadata": {},
   "outputs": [],
   "source": [
    "def bin_it(yvalues, xvalues, binsize):\n",
    "    '''puts an array into averaged bins of a given size'''\n",
    "    N=int(math.ceil(len(yvalues)/binsize))\n",
    "    C=0\n",
    "    newy=[]\n",
    "    while C<N:\n",
    "        if (C+1)*binsize<len(yvalues):\n",
    "            Q=(np.sum(yvalues[C*binsize:(C+1)*binsize]))/binsize\n",
    "        else:\n",
    "            Q=(np.sum(yvalues[C*binsize:len(yvalues)]))/binsize\n",
    "        newy.append(Q)\n",
    "        C+=1\n",
    "    y=np.array(newy)\n",
    "    x=xvalues[0::binsize] \n",
    "    return y[0:len(y)-1], x[0:len(y)-1]"
   ]
  },
  {
   "cell_type": "code",
   "execution_count": 8,
   "metadata": {},
   "outputs": [],
   "source": [
    "#Adds random noise\n",
    "def addnoise(pure):\n",
    "    vary = np.random.uniform(0, 1, pure.shape)\n",
    "    signal = -(pure* np.log(vary))\n",
    "    return signal"
   ]
  },
  {
   "cell_type": "code",
   "execution_count": 9,
   "metadata": {},
   "outputs": [],
   "source": [
    "def gaus(x, height, centre, width):\n",
    "    '''plots a gaussian acounting for granulation'''\n",
    "    return height*np.exp((-(x-centre)**2)/(2*width**2))"
   ]
  },
  {
   "cell_type": "code",
   "execution_count": 10,
   "metadata": {},
   "outputs": [],
   "source": [
    "def findgran(x, y):\n",
    "    #guess_vals=[np.max(y),y[round(len(y)/4)]]\n",
    "    guess_vals=[0, 0]\n",
    "    best_vals, covar =curve_fit(graneq, x, y, p0=guess_vals)\n",
    "    return best_vals"
   ]
  },
  {
   "cell_type": "code",
   "execution_count": 11,
   "metadata": {},
   "outputs": [],
   "source": [
    "def graneq(x,A,tau,SN):\n",
    "    '''equation to describe the background'''\n",
    "    return A/(1+(2*np.pi*x*tau)**4)+SN"
   ]
  },
  {
   "cell_type": "code",
   "execution_count": 12,
   "metadata": {},
   "outputs": [],
   "source": [
    "def find_nearest(array, value):\n",
    "    '''finds value closest to a given value in an array'''\n",
    "    array = np.asarray(array)\n",
    "    idx = (np.abs(array-value)).argmin()\n",
    "    return idx"
   ]
  },
  {
   "cell_type": "code",
   "execution_count": 13,
   "metadata": {},
   "outputs": [],
   "source": [
    "def f(x,a,b):\n",
    "    return a*x+b\n",
    "def f1(x,a,b,c):\n",
    "    return a*np.exp(b*x)+c"
   ]
  },
  {
   "cell_type": "code",
   "execution_count": 115,
   "metadata": {},
   "outputs": [],
   "source": [
    "binsize=500\n",
    "frequency = data[0]"
   ]
  },
  {
   "cell_type": "code",
   "execution_count": 121,
   "metadata": {},
   "outputs": [],
   "source": [
    "binsize=250\n",
    "\n",
    "n = 1\n",
    "SN = 18*10**(-0.4*(11.0-extradata[int(n)-1,2]))\n",
    "\n",
    "#y1,x1=data[int(n)],frequency\n",
    "#y2,x2=addnoise(data[int(n)]),frequency\n",
    "\n",
    "y,x=bin_it(addnoise(data[int(n)]),frequency,binsize)\n",
    "\n",
    "#y=[]\n",
    "#y1=[]\n",
    "\n",
    "#for i in range(50):\n",
    "#    y.append(addnoise(data[int(n)]))\n",
    "\n",
    "\n",
    "    \n",
    "#print(y1)\n",
    "\n",
    "#for i in y:\n",
    "#    for p in y:\n",
    "#        np.sum(y[i][p])\n",
    "        \n",
    "        \n",
    "#print(y)\n",
    "#y[0][0] this gives the first value in the first array within the array of arrays\n",
    "#print(y[0][:])\n",
    "#print(len(y))\n",
    "#print(len(y[1]))\n",
    "#y=np.array(y)\n",
    "#plot_y,plot_x=bin_it(avgy,frequency,binsize)\n",
    "#print(y.shape)\n",
    "#meanedy=np.mean(y, axis=0)\n",
    "#print(meanedy.shape)\n",
    "#loop over arrays\n",
    "#plt.plot(frequency,addnoise(data[int(n)]))\n",
    "#plt.plot(frequency,meanedy)\n"
   ]
  },
  {
   "cell_type": "code",
   "execution_count": 122,
   "metadata": {},
   "outputs": [],
   "source": [
    "bv,covar = curve_fit(graneq,x,y,p0=[0,0,SN], bounds=([0,0,SN-SN/100],[np.inf,np.inf,SN+SN/100]))\n",
    "\n",
    "background=graneq(x,bv[0],bv[1],bv[2])\n",
    "\n",
    "\n",
    "#plt.figure()\n",
    "#plt.plot(avgx,avgy)\n",
    "#plt.show()\n",
    "\n",
    "plt.figure()\n",
    "plt.plot(x, y, label=f'Binned Data, Star {n}')\n",
    "plt.plot(x, background, label='Background Fit')\n",
    "plt.legend()\n",
    "plt.show()\n",
    "\n",
    "#plt.figure()\n",
    "#plt.plot(x1, y1)\n",
    "#plt.show()\n",
    "\n",
    "#plt.figure()\n",
    "#plt.plot(x2,y2)\n",
    "#plt.show()\n",
    "\n",
    "#plt.figure()\n",
    "#plt.plot(x3,y3)\n",
    "#plt.show()"
   ]
  },
  {
   "cell_type": "code",
   "execution_count": 123,
   "metadata": {},
   "outputs": [
    {
     "name": "stdout",
     "output_type": "stream",
     "text": [
      "Power under Gaussian (971.6443525170406, 1.0787419319114206e-11)\n",
      "Power under background (3534.2511872133987, 1.5144432929936613e-10)\n",
      "Numax is 4880.1\n",
      "FWHM is 1162.4150129229395\n",
      "Gaussian Integral Limits are 5461.30750646147 and 4298.89249353853\n",
      "Power under Gaussian (979.6696672120498, 1.0876518210656825e-11)\n",
      "Power under background (3534.2511872133987, 1.5144432929936613e-10)\n",
      "Numax is 4840.1\n",
      "FWHM is 1154.0264157616634\n",
      "Gaussian Integral Limits are 5417.113207880832 and 4263.086792119168\n",
      "Power under Gaussian (961.5407674194287, 1.0675246991047924e-11)\n",
      "Power under background (3534.2511872133987, 1.5144432929936613e-10)\n",
      "Numax is 4840.1\n",
      "FWHM is 1154.0264157616634\n",
      "Gaussian Integral Limits are 5417.113207880832 and 4263.086792119168\n",
      "Power under Gaussian (1002.9674022630783, 1.1135175029409508e-11)\n",
      "Power under background (3534.2511872133987, 1.5144432929936613e-10)\n",
      "Numax is 4795.1\n",
      "FWHM is 1144.5792911248154\n",
      "Gaussian Integral Limits are 5367.389645562408 and 4222.810354437593\n",
      "Power under Gaussian (978.4304842229758, 1.0862760515794887e-11)\n",
      "Power under background (3534.2511872133987, 1.5144432929936613e-10)\n",
      "Numax is 4795.1\n",
      "FWHM is 1144.5792911248154\n",
      "Gaussian Integral Limits are 5367.389645562408 and 4222.810354437593\n"
     ]
    }
   ],
   "source": [
    "%matplotlib qt\n",
    "\n",
    "fig, ax = plt.subplots()\n",
    "plt.subplots_adjust(left=0.25, bottom=0.25)\n",
    "f = np.arange(0.0, 20000, 1) #x-axis\n",
    "a0 = 2  #starting conditons for amplitude, centre and width\n",
    "v0= 3000\n",
    "sig0 = 50\n",
    "delta_f = 5.0\n",
    "s = a0*(np.exp(-0.5*((f-v0)**2/sig0**2))) #gaussian equation\n",
    "l, = plt.plot(f, s, 'g', label='Gaussian Fit')\n",
    "plt.plot(x, y, label=f'Binned Data, Star {n}')\n",
    "plt.plot(x, background, label='Background Fit')\n",
    "plt.xlabel('Frequency ($\\mu Hz$)')\n",
    "plt.ylabel('Power ($ppm^2 \\mu Hz^{-1}$)')\n",
    "plt.legend()\n",
    "\n",
    "ax.margins(x=0)\n",
    "axcolor = 'lavender'\n",
    "axcent = plt.axes([0.25, 0.02, 0.65, 0.03], facecolor=axcolor) #positions of the sliders\n",
    "axamp = plt.axes([0.25, 0.07, 0.65, 0.03], facecolor=axcolor)\n",
    "axsig = plt.axes([0.25, 0.12, 0.65, 0.03], facecolor=axcolor)\n",
    "\n",
    "scentre = Slider(axcent, 'nu{max}', 0.1, 17500, valinit=v0, valstep=delta_f) #parameters for sliders\n",
    "scentre.valtext.set_visible(False) #removing the values so that fitting isn't as biased\n",
    "samp = Slider(axamp, 'Amp', 0.1, 2, valinit=a0)\n",
    "samp.valtext.set_visible(False)\n",
    "ssig = Slider(axsig, 'Sigma', 0.1, 1000, valinit=sig0, valstep= delta_f)\n",
    "ssig.valtext.set_visible(False)\n",
    "\n",
    "def update(val): #function to update the amp, cent and width values as the slider is moved\n",
    "    amp = samp.val\n",
    "    cent = scentre.val\n",
    "    sig = ssig.val\n",
    "    l.set_ydata(amp*(np.exp(-0.5*((f-cent)**2/(sig**2)))))\n",
    "    fig.canvas.draw_idle()\n",
    "scentre.on_changed(update)\n",
    "samp.on_changed(update)\n",
    "ssig.on_changed(update)\n",
    "\n",
    "integrateax = plt.axes([0.025, 0.25, 0.1, 0.04]) #position of integrate button\n",
    "button1 = Button(integrateax, 'Integrate', color=axcolor, hovercolor='0.975') #creation of integrate button\n",
    "\n",
    "def integrand_b(x, a, b): #integrate under background curve\n",
    "    I = a/(1+(2*np.pi*x*b)**4)\n",
    "    return I\n",
    "a = bv[0] #values for A and tau\n",
    "b = bv[1]\n",
    "Int_background = quad(integrand_b, 0, 6000, args=(a,b))\n",
    "\n",
    "def integrand_g(x, a, b, c):\n",
    "    I = a*np.exp((-(x-b)**2)/(2*c**2))\n",
    "    return I \n",
    "\n",
    "gauss = []\n",
    "gausserr = []\n",
    "background = []\n",
    "backgrounderr = []\n",
    "numax = []\n",
    "width = []\n",
    "upper = []\n",
    "lower = []\n",
    "def integrate(event): #defining what happens when 'integrate' button is clicked\n",
    "    a = samp.val #values for a, b and c in integrand_g\n",
    "    b = scentre.val\n",
    "    c = ssig.val\n",
    "    \n",
    "    fwhm = 0.66*(scentre.val)**0.88\n",
    "    upper_lim = scentre.val+fwhm/2\n",
    "    lower_lim = scentre.val-fwhm/2\n",
    "    \n",
    "    Int_gaus = quad(integrand_g, lower_lim, upper_lim, args=(a,b,c))\n",
    "    print(f'Power under Gaussian {Int_gaus}')\n",
    "    print(f'Power under background {Int_background}')\n",
    "    print(f'Numax is {scentre.val}')\n",
    "    print(f'FWHM is {fwhm}')\n",
    "    print(f'Gaussian Integral Limits are {upper_lim} and {lower_lim}')\n",
    "    gauss.append(Int_gaus[0])\n",
    "    gausserr.append(Int_gaus[1])\n",
    "    background.append(Int_background[0])\n",
    "    backgrounderr.append(Int_background[1])\n",
    "    numax.append(scentre.val)\n",
    "    width.append(fwhm)\n",
    "    upper.append(upper_lim)\n",
    "    lower.append(lower_lim)\n",
    "    \n",
    "button1.on_clicked(integrate)\n",
    "\n",
    "resetax = plt.axes([0.025, 0.3, 0.1, 0.04]) #position of reset button\n",
    "button2 = Button(resetax, 'Reset', color=axcolor, hovercolor='0.975') #creating reset button\n",
    "def reset(event): #defining what happens when 'integrate' button is clicked\n",
    "    scentre.reset()\n",
    "    samp.reset()\n",
    "    ssig.reset()\n",
    "button2.on_clicked(reset)\n",
    "\n",
    "\n",
    "\n",
    "plt.show()\n",
    "\n"
   ]
  },
  {
   "cell_type": "code",
   "execution_count": 128,
   "metadata": {},
   "outputs": [
    {
     "name": "stdout",
     "output_type": "stream",
     "text": [
      "The average Numax is: 4830.1 +/- 14.352700094407323\n",
      "The average FWHM is: 1151.9252853391795 +/- 3.0119172955511946\n",
      "The average limits are, upper: 5406.062642669591 +/- 15.858658668202 and lower: 4254.13735733041 +/- 12.846741537957477\n",
      "Ratio of Power: 0.27696122399797374 +/- 1.1947336790546897e-14\n"
     ]
    }
   ],
   "source": [
    "average_gauss = np.mean(gauss)\n",
    "average_gausserr = np.sqrt(np.sum(np.square(gausserr)))/len(gausserr)\n",
    "\n",
    "average_background = np.array(Int_background)[0]\n",
    "average_backgrounderr = np.array(Int_background)[1]\n",
    "\n",
    "power_ratio = average_gauss/average_background\n",
    "power_ratioerr = power_ratio*np.sqrt((average_gausserr/average_gauss)**2 + (average_backgrounderr/average_background)**2)\n",
    "\n",
    "average_numax=np.mean(numax)\n",
    "error_numax=np.std(numax)/np.sqrt(len(numax))\n",
    "print(f'The average Numax is: {average_numax} +/- {error_numax}')\n",
    "\n",
    "average_fwhm=np.mean(width)\n",
    "error_fwhm=np.std(width)/np.sqrt(len(width))\n",
    "print(f'The average FWHM is: {average_fwhm} +/- {error_fwhm}')\n",
    "\n",
    "average_upper=np.mean(upper)\n",
    "average_lower=np.mean(lower)\n",
    "error_upper=np.std(upper)/np.sqrt(len(upper))\n",
    "error_lower=np.std(lower)/np.sqrt(len(lower))\n",
    "print(f'The average limits are, upper: {average_upper} +/- {error_upper} and lower: {average_lower} +/- {error_lower}')\n",
    "\n",
    "print(f'Ratio of Power: {power_ratio} +/- {power_ratioerr}')\n"
   ]
  }
 ],
 "metadata": {
  "kernelspec": {
   "display_name": "Python 3",
   "language": "python",
   "name": "python3"
  },
  "language_info": {
   "codemirror_mode": {
    "name": "ipython",
    "version": 3
   },
   "file_extension": ".py",
   "mimetype": "text/x-python",
   "name": "python",
   "nbconvert_exporter": "python",
   "pygments_lexer": "ipython3",
   "version": "3.7.6"
  }
 },
 "nbformat": 4,
 "nbformat_minor": 4
}
