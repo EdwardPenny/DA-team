{
 "cells": [
  {
   "cell_type": "code",
   "execution_count": 1,
   "metadata": {},
   "outputs": [],
   "source": [
    "import numpy as np\n",
    "import matplotlib.pyplot as plt\n",
    "import astropy.constants as c\n",
    "from scipy.signal import find_peaks\n",
    "from scipy.signal import peak_prominences\n",
    "from scipy.signal import peak_widths\n",
    "from scipy.optimize import curve_fit\n",
    "import math\n",
    "from statistics import stdev "
   ]
  },
  {
   "cell_type": "code",
   "execution_count": 2,
   "metadata": {},
   "outputs": [],
   "source": [
    "def bin_it(yvalues,xvalues,binsize):\n",
    "    '''puts an array into averaged bins of a given size'''\n",
    "    N=int(math.ceil(len(yvalues)/binsize))\n",
    "    C=0\n",
    "    newy=[]\n",
    "    while C<N:\n",
    "        if (C+1)*binsize<len(yvalues):\n",
    "            Q=(np.sum(yvalues[C*binsize:(C+1)*binsize]))/binsize\n",
    "        else:\n",
    "            Q=(np.sum(yvalues[C*binsize:len(yvalues)]))/binsize\n",
    "        newy.append(Q)\n",
    "        C+=1\n",
    "    return np.array(newy),xvalues[0::binsize] "
   ]
  },
  {
   "cell_type": "code",
   "execution_count": 3,
   "metadata": {},
   "outputs": [],
   "source": [
    "#Adds random noise\n",
    "def addnoise(pure):\n",
    "    vary = np.random.uniform(0, 1, pure.shape)\n",
    "    signal = -(pure* np.log(vary))\n",
    "    return (signal)"
   ]
  },
  {
   "cell_type": "code",
   "execution_count": 4,
   "metadata": {},
   "outputs": [],
   "source": [
    "def gausgran(x,height,centre,width):\n",
    "    '''plots a gaussian acounting for granulation'''\n",
    "    best_vals=findgran(frequency,Fulldata)\n",
    "    granulation =graneq(frequency,best_vals[0],best_vals[1])\n",
    "    return height*np.exp((-(x-centre)**2)/(2*width**2))+granulation"
   ]
  },
  {
   "cell_type": "code",
   "execution_count": 5,
   "metadata": {},
   "outputs": [],
   "source": [
    "def count(list1, l, r): \n",
    "    # x for x in list1 is same as traversal in the list \n",
    "    # the if condition checks for the number of numbers in the range  \n",
    "    # l to r  \n",
    "    # the return is stored in a list \n",
    "    # whose length is the answer \n",
    "    return len(list(x for x in list1 if l <= x <= r)) "
   ]
  },
  {
   "cell_type": "code",
   "execution_count": 6,
   "metadata": {},
   "outputs": [],
   "source": [
    "def findgran(frequency,y):\n",
    "    #guess_vals=[5777,696340000,1.989*10**30,274]\n",
    "    guess_vals=[np.max(Fulldata),Fulldata[round(len(Fulldata)/4)]]\n",
    "    best_vals, covar =curve_fit(graneq, frequency, y,p0=guess_vals)\n",
    "    return best_vals"
   ]
  },
  {
   "cell_type": "code",
   "execution_count": 7,
   "metadata": {},
   "outputs": [],
   "source": [
    "def graneq(x,A,tau):\n",
    "    return A/(1+(2*np.pi*x*tau)**4)"
   ]
  },
  {
   "cell_type": "code",
   "execution_count": 8,
   "metadata": {},
   "outputs": [],
   "source": [
    "def find_vmax(N,binsize, shot_noise_level):\n",
    "    frequency=np.linspace(1,6000,6000)\n",
    "    x = np.array(frequency)\n",
    "    vmag = np.full((len(frequency)), shot_noise_level) #here 8 defines the apparent magnitude\n",
    "    shot_noise = 18*10**(-0.4*(11.0-vmag))\n",
    "    #binsize=80\n",
    "    C=0\n",
    "    fails=0\n",
    "    centres=[]\n",
    "    widths=[]\n",
    "    amps=[]\n",
    "    #N=100 #number of trials to find v_max with differnt noise\n",
    "    while C<N:\n",
    "        y=addnoise(Fulldata) #adds noise to y values, inside loop so each curve fit will be different due to the random noise\n",
    "        yb,xb=bin_it(y,x,binsize) #yb and xb as in xbinned and ybinned bins data with a binsize of 50\n",
    "        guess_vals=[np.max(yb),xb[0]+(xb[-1]-xb[0])/2,(xb[-1]-xb[0])/4] #rough guesses which will change with each plot\n",
    "        #try and except are used in case a gaussian cant be fitted to the data. try and execpt allow the code to continue even if a\n",
    "        #fit can not be found. If a fit can be found the v_max is recorded and added to an array of v_max values. If a fit can not\n",
    "        #be found the failure is recored and the code continues with the next trial\n",
    "        try: \n",
    "            best_vals, covar =curve_fit(gausgran, xb, yb,p0=guess_vals)\n",
    "            #attempts to fit a gaussian to the data taking acount of the granulation\n",
    "            centres.append(best_vals[1])\n",
    "            amps.append(best_vals[0])\n",
    "            widths.append(best_vals[2])\n",
    "        except:\n",
    "            fails+=1 #records failure\n",
    "            C+=1\n",
    "            continue\n",
    "        C+=1\n",
    "    percentage=fails*100/N\n",
    "    #print(f'Number of trials {N}')\n",
    "    #print(f'binsize: {binsize}')\n",
    "    print(f'shot noise level {shot_noise_level}')\n",
    "    print(f'{percentage}% trails failed to fit a gaussian') \n",
    "    if len(centres)<1: #prevents error is code\n",
    "        print('Code failed to fit any gaussians ')\n",
    "    else:   \n",
    "        average_centres=np.mean(centres)\n",
    "        difference=np.abs(average_centres-3100)\n",
    "        print(f'average v_max {average_centres} which is {difference} away from the true value of 3100 ')\n",
    "        print('')\n",
    "        return centres"
   ]
  },
  {
   "cell_type": "code",
   "execution_count": 9,
   "metadata": {},
   "outputs": [],
   "source": [
    "#Using the Gaussian as the height in the function to plot the Lorentzians\n",
    "def lorentz_gauss(modes, Gauss, width):\n",
    "    Lorentzh = np.zeros(len(x))\n",
    "    for p in range(len(modes)):\n",
    "        Lorentzh+=(Gauss*((1+((x - np.array(modes)[p])/(width/2))**2)**(-1)))\n",
    "    Lorentzh_array = np.array(Lorentzh)\n",
    "    return Lorentzh_array"
   ]
  },
  {
   "cell_type": "code",
   "execution_count": 16,
   "metadata": {},
   "outputs": [],
   "source": [
    "#define parameters\n",
    "delta_v_sun = 134.8 #microHz\n",
    "D = 1.5\n",
    "n=np.linspace(1,40,40)\n",
    "l= 0\n",
    "l1 = 1\n",
    "l2 = 2\n",
    "l3 = 3\n",
    "width = 10"
   ]
  },
  {
   "cell_type": "code",
   "execution_count": 20,
   "metadata": {},
   "outputs": [
    {
     "data": {
      "image/png": "[encoded data removed]",
      "text/plain": [
       "<Figure size 576x432 with 1 Axes>"
      ]
     },
     "metadata": {},
     "output_type": "display_data"
    }
   ],
   "source": [
    "frequency=np.linspace(1,6000,6000)\n",
    "x = np.array(frequency)\n",
    "H=5\n",
    "epsilon=1.5\n",
    "V_max_sun = 3100 #microHz\n",
    "A_max_sun = 2.1 #ppm from Warrick's paper\n",
    "\n",
    "\n",
    "#calculate modes for different angular degree, l and radial mode, n\n",
    "modes=[]\n",
    "for i in range(len(n)):\n",
    "    modes.append(delta_v_sun*(n[i]+((l)/2)+epsilon)-D*(l)*((l)+1))\n",
    "\n",
    "modes1=[]\n",
    "for i in range(len(n)):\n",
    "    modes1.append(delta_v_sun*(n[i]+((l1)/2)+epsilon)-D*(l1)*((l1)+1))\n",
    "    \n",
    "modes2=[]\n",
    "for i in range(len(n)):\n",
    "    modes2.append(delta_v_sun*(n[i]+((l2)/2)+epsilon)-D*(l2)*((l2)+1))\n",
    "\n",
    "modes3=[]\n",
    "for i in range(len(n)):\n",
    "    modes3.append(delta_v_sun*(n[i]+((l3)/2)+epsilon)-D*(l3)*((l3)+1))\n",
    "\n",
    "#Defines Gaussian curve with height A squared\n",
    "sigma = 2.123*delta_v_sun#microHz\n",
    "Gauss = (A_max_sun**2)*(np.exp(-0.5*((x-V_max_sun)/sigma)**2))\n",
    "\n",
    "\n",
    "#Defines parameters for granulation\n",
    "tau_sun = 200 #seconds\n",
    "g_sun = 274 #metres per second squared\n",
    "T_eff_sun = 5777 #Kelvin\n",
    "sigma_sun = 50000/(c.R_sun.value/(1000*10**3)) #ppm\n",
    "\n",
    "granulation = (4*np.sqrt(2)*tau_sun/1e6*(sigma_sun)**2)/(1+(2*np.pi*x*tau_sun/1e6)**4) #ppm squared per micro hertz\n",
    "#Defines width of the Lorentzians\n",
    "alpha = -25.5+29.1 #for the Sun\n",
    "gamma_alpha = 6.3 - 1.8 #for the Sun\n",
    "linewidth = (alpha*np.log(x/V_max_sun)+np.log(gamma_alpha))\n",
    "\n",
    "\n",
    "#Heights of modes scaled to their relative visibilities \n",
    "Lorentzh_array_0 = lorentz_gauss(modes, Gauss, linewidth)\n",
    "Lorentzh_array_1 = lorentz_gauss(modes1, Gauss*1.5, linewidth)\n",
    "Lorentzh_array_2 = lorentz_gauss(modes2, Gauss*0.5, linewidth)\n",
    "Lorentzh_array_3 = lorentz_gauss(modes3, Gauss*0.04, linewidth)\n",
    "\n",
    "#Plots the Lorentzians with the granulation as a full spectrum\n",
    "plt.figure(figsize=(8,6))\n",
    "plt.plot(x, Lorentzh_array_0+granulation, 'c')\n",
    "plt.plot(x, Lorentzh_array_1+granulation)\n",
    "plt.plot(x, Lorentzh_array_2+granulation)\n",
    "plt.plot(x, Lorentzh_array_3+granulation)\n",
    "plt.title('Frequency-Power spectrum for the Sun with Granulation')\n",
    "plt.xlabel('Frequency ($\\mu$Hz)')\n",
    "plt.ylabel('$Ppm^2$/$\\mu$Hz')\n",
    "\n",
    "#Fulldata is the modes and the granulation without noise as this needs to be added in each loop\n",
    "Fulldata=Lorentzh_array_0+Lorentzh_array_1+Lorentzh_array_2+Lorentzh_array_3+granulation\n",
    "vmag = np.full((len(frequency)), -11) #here 8 defines the apparent magnitude\n",
    "shot_noise = 18*10**(-0.4*(11.0-vmag))\n",
    "best=findgran(frequency,Fulldata+shot_noise)\n",
    "plt.plot(frequency,graneq(frequency,best[0],best[1]),'--')\n",
    "plt.show()\n"
   ]
  },
  {
   "cell_type": "code",
   "execution_count": 21,
   "metadata": {
    "scrolled": false
   },
   "outputs": [
    {
     "name": "stdout",
     "output_type": "stream",
     "text": [
      "100.0% trails failed to fit a gaussian\n",
      "Code failed to fit any gaussians \n",
      "10\n"
     ]
    },
    {
     "data": {
      "image/png": "[encoded data removed]",
      "text/plain": [
       "<Figure size 432x288 with 1 Axes>"
      ]
     },
     "metadata": {},
     "output_type": "display_data"
    },
    {
     "name": "stdout",
     "output_type": "stream",
     "text": [
      "0/0 are outside the expected range\n"
     ]
    },
    {
     "data": {
      "image/png": "[encoded data removed]",
      "text/plain": [
       "<Figure size 432x288 with 1 Axes>"
      ]
     },
     "metadata": {},
     "output_type": "display_data"
    }
   ],
   "source": [
    "frequency=np.linspace(1,6000,6000)\n",
    "x = np.array(frequency)\n",
    "binsize=90\n",
    "Fulldata=shot_noise+Fulldata\n",
    "C=0\n",
    "fails=0\n",
    "centres=[]\n",
    "widths=[]\n",
    "amps=[]\n",
    "N=10 #number of trials to find v_max with differnt noise, 4000\n",
    "while C<N:\n",
    "    y=addnoise(Fulldata) #adds noise to y values, inside loop so each curve fit will be different due to the random noise\n",
    "    yb,xb=bin_it(y,x,binsize) #yb and xb as in xbinned and ybinned bins data with a binsize of 50\n",
    "    guess_vals=[np.max(yb),xb[0]+(xb[-1]-xb[0])/2,(xb[-1]-xb[0])/4] #rough guesses which will change with each plot\n",
    "    #try and except are used in case a gaussian cant be fitted to the data. try and execpt allow the code to continue even if a\n",
    "    #fit can not be found. If a fit can be found the v_max is recorded and added to an array of v_max values. If a fit can not\n",
    "    #be found the failure is recored and the code continues with the next trial\n",
    "    try: \n",
    "        best_vals, covar =curve_fit(gausgran, xb, yb,p0=guess_vals)\n",
    "        #attempts to fit a gaussian to the data taking acount of the granulation\n",
    "        centres.append(best_vals[1])\n",
    "        amps.append(best_vals[0])\n",
    "        widths.append(best_vals[2])\n",
    "    except:\n",
    "        fails+=1 #records failure\n",
    "        C+=1\n",
    "        continue\n",
    "    C+=1\n",
    "    if C % (25*(N/100)) == 0:\n",
    "        print(f'Code is {C/(N/100)}% complete') #if statment that allows tracking of code completion while it is running\n",
    "percentage=fails*100/N\n",
    "print(f'{percentage}% trails failed to fit a gaussian') \n",
    "if len(centres)<1: #prevents error is code\n",
    "    print('Code failed to fit any gaussians ')\n",
    "    print(fails)\n",
    "else:   \n",
    "    average_centres=np.mean(centres)\n",
    "    difference=np.abs(average_centres-3100)\n",
    "    print('')\n",
    "    print(f'average v_max {average_centres} which is {difference} away from the true value of 3100 ')\n",
    "    x_vals=bin_it(addnoise(Fulldata),x,50)[1]\n",
    "    y_vals=bin_it(addnoise(Fulldata),x,50)[0]\n",
    "    plt.plot(x_vals,y_vals, label='example data')\n",
    "    plt.plot(x_vals,gausgran(x_vals,np.mean(amps),np.mean(centres),np.mean(widths)), \n",
    "             label='fitted gaussian including granulation')\n",
    "    plt.xlabel('Frequency')\n",
    "    plt.ylabel('Power')\n",
    "    plt.title('fitted gaussain ')\n",
    "    plt.legend()\n",
    "    plt.show()\n",
    "    quater=int(len(x_vals)/4)\n",
    "    plt.plot(x_vals[quater:3*quater],y_vals[quater:3*quater], label='example data')\n",
    "    plt.plot(x_vals[quater:3*quater],gausgran(x_vals[quater:3*quater],np.mean(amps),np.mean(centres),np.mean(widths)),\n",
    "            label='fitted gaussian including granulation')\n",
    "    plt.xlabel('Frequency')\n",
    "    plt.ylabel('Power')\n",
    "    plt.title('fitted gaussain cropped down')\n",
    "    plt.legend()\n",
    "    plt.show()\n",
    "xs=np.linspace(1,N,N-fails)\n",
    "plt.plot(xs,centres)\n",
    "plt.xlabel('trails')\n",
    "plt.ylabel('v_max')\n",
    "plt.title(f'Each trials x_max for binsize {binsize}')\n",
    "plt.show()\n",
    "plt.scatter(xs,centres)\n",
    "values_outside_expected_range=count(centres, 1000, 2500)\n",
    "No_vals=len(centres)\n",
    "print(f'{values_outside_expected_range}/{No_vals} are outside the expected range')"
   ]
  },
  {
   "cell_type": "code",
   "execution_count": 13,
   "metadata": {},
   "outputs": [
    {
     "name": "stderr",
     "output_type": "stream",
     "text": [
      "C:\\Users\\Edward\\Documents\\code\\lib\\site-packages\\scipy\\optimize\\minpack.py:794: OptimizeWarning: Covariance of the parameters could not be estimated\n",
      "  category=OptimizeWarning)\n"
     ]
    },
    {
     "name": "stdout",
     "output_type": "stream",
     "text": [
      "shot noise level 1\n",
      "100.0% trails failed to fit a gaussian\n",
      "Code failed to fit any gaussians \n"
     ]
    },
    {
     "ename": "TypeError",
     "evalue": "unsupported operand type(s) for /: 'NoneType' and 'int'",
     "output_type": "error",
     "traceback": [
      "\u001b[1;31m---------------------------------------------------------------------------\u001b[0m",
      "\u001b[1;31mTypeError\u001b[0m                                 Traceback (most recent call last)",
      "\u001b[1;32m<ipython-input-13-3074b8f1a3f7>\u001b[0m in \u001b[0;36m<module>\u001b[1;34m()\u001b[0m\n\u001b[0;32m     14\u001b[0m \u001b[1;32mfor\u001b[0m \u001b[0mn\u001b[0m \u001b[1;32min\u001b[0m \u001b[0mshot_noise_levels\u001b[0m\u001b[1;33m:\u001b[0m\u001b[1;33m\u001b[0m\u001b[0m\n\u001b[0;32m     15\u001b[0m     \u001b[0mQ\u001b[0m\u001b[1;33m=\u001b[0m\u001b[0mfind_vmax\u001b[0m\u001b[1;33m(\u001b[0m\u001b[1;36m4000\u001b[0m\u001b[1;33m,\u001b[0m\u001b[1;36m90\u001b[0m\u001b[1;33m,\u001b[0m\u001b[0mn\u001b[0m\u001b[1;33m)\u001b[0m\u001b[1;33m\u001b[0m\u001b[0m\n\u001b[1;32m---> 16\u001b[1;33m     \u001b[0mv_maxs\u001b[0m\u001b[1;33m.\u001b[0m\u001b[0mappend\u001b[0m\u001b[1;33m(\u001b[0m\u001b[0mnp\u001b[0m\u001b[1;33m.\u001b[0m\u001b[0mmean\u001b[0m\u001b[1;33m(\u001b[0m\u001b[0mQ\u001b[0m\u001b[1;33m)\u001b[0m\u001b[1;33m)\u001b[0m\u001b[1;33m\u001b[0m\u001b[0m\n\u001b[0m\u001b[0;32m     17\u001b[0m     \u001b[0merror\u001b[0m\u001b[1;33m.\u001b[0m\u001b[0mappend\u001b[0m\u001b[1;33m(\u001b[0m\u001b[0mstdev\u001b[0m\u001b[1;33m(\u001b[0m\u001b[0mQ\u001b[0m\u001b[1;33m)\u001b[0m\u001b[1;33m)\u001b[0m\u001b[1;33m\u001b[0m\u001b[0m\n\u001b[0;32m     18\u001b[0m \u001b[0mplt\u001b[0m\u001b[1;33m.\u001b[0m\u001b[0mplot\u001b[0m\u001b[1;33m(\u001b[0m\u001b[0mshot_noise_levels\u001b[0m\u001b[1;33m,\u001b[0m\u001b[0mv_maxs\u001b[0m\u001b[1;33m)\u001b[0m\u001b[1;33m\u001b[0m\u001b[0m\n",
      "\u001b[1;32m~\\Documents\\code\\lib\\site-packages\\numpy\\core\\fromnumeric.py\u001b[0m in \u001b[0;36mmean\u001b[1;34m(a, axis, dtype, out, keepdims)\u001b[0m\n\u001b[0;32m   2918\u001b[0m \u001b[1;33m\u001b[0m\u001b[0m\n\u001b[0;32m   2919\u001b[0m     return _methods._mean(a, axis=axis, dtype=dtype,\n\u001b[1;32m-> 2920\u001b[1;33m                           out=out, **kwargs)\n\u001b[0m\u001b[0;32m   2921\u001b[0m \u001b[1;33m\u001b[0m\u001b[0m\n\u001b[0;32m   2922\u001b[0m \u001b[1;33m\u001b[0m\u001b[0m\n",
      "\u001b[1;32m~\\Documents\\code\\lib\\site-packages\\numpy\\core\\_methods.py\u001b[0m in \u001b[0;36m_mean\u001b[1;34m(a, axis, dtype, out, keepdims)\u001b[0m\n\u001b[0;32m     85\u001b[0m             \u001b[0mret\u001b[0m \u001b[1;33m=\u001b[0m \u001b[0mret\u001b[0m\u001b[1;33m.\u001b[0m\u001b[0mdtype\u001b[0m\u001b[1;33m.\u001b[0m\u001b[0mtype\u001b[0m\u001b[1;33m(\u001b[0m\u001b[0mret\u001b[0m \u001b[1;33m/\u001b[0m \u001b[0mrcount\u001b[0m\u001b[1;33m)\u001b[0m\u001b[1;33m\u001b[0m\u001b[0m\n\u001b[0;32m     86\u001b[0m     \u001b[1;32melse\u001b[0m\u001b[1;33m:\u001b[0m\u001b[1;33m\u001b[0m\u001b[0m\n\u001b[1;32m---> 87\u001b[1;33m         \u001b[0mret\u001b[0m \u001b[1;33m=\u001b[0m \u001b[0mret\u001b[0m \u001b[1;33m/\u001b[0m \u001b[0mrcount\u001b[0m\u001b[1;33m\u001b[0m\u001b[0m\n\u001b[0m\u001b[0;32m     88\u001b[0m \u001b[1;33m\u001b[0m\u001b[0m\n\u001b[0;32m     89\u001b[0m     \u001b[1;32mreturn\u001b[0m \u001b[0mret\u001b[0m\u001b[1;33m\u001b[0m\u001b[0m\n",
      "\u001b[1;31mTypeError\u001b[0m: unsupported operand type(s) for /: 'NoneType' and 'int'"
     ]
    }
   ],
   "source": [
    "#loop of 4000 seems to be a good amount, its large enough to get a good value, but small enough to not run for a long time\n",
    "#binsize of 90 seems to best\n",
    "v_maxs=[]\n",
    "error=[]\n",
    "Ns=np.linspace(10,4000,10)\n",
    "binsizes=np.linspace(50,150,20)\n",
    "#for n in binsizes:\n",
    "#    v_maxs.append(find_vmax(4000,int(n)))\n",
    "#plt.plot(binsizes,v_maxs)\n",
    "#plt.scatter(binsizes,v_maxs)\n",
    "#plt.axhline(3100,color='r')\n",
    "#plt.show()\n",
    "shot_noise_levels=[1,2,3,4,5,6]\n",
    "for n in shot_noise_levels:\n",
    "    Q=find_vmax(4000,90,n)\n",
    "    v_maxs.append(np.mean(Q))\n",
    "    error.append(stdev(Q))\n",
    "plt.plot(shot_noise_levels,v_maxs)\n",
    "plt.scatter(shot_noise_levels,v_maxs)\n",
    "plt.axhline(3100,color='r')\n",
    "plt.xlabel('shot_noise_levels')\n",
    "plt.ylabel('v_max')\n",
    "plt.show()\n",
    "plt.plot(shot_noise_levels, error)\n",
    "plt.xlabel('shot_noise_levels')\n",
    "plt.ylabel('standard deviation of values')\n",
    "plt.show()\n",
    "print(error)"
   ]
  },
  {
   "cell_type": "code",
   "execution_count": 22,
   "metadata": {},
   "outputs": [
    {
     "data": {
      "image/png": "[encoded data removed]",
      "text/plain": [
       "<Figure size 432x288 with 1 Axes>"
      ]
     },
     "metadata": {},
     "output_type": "display_data"
    },
    {
     "name": "stdout",
     "output_type": "stream",
     "text": [
      "[ 5.84171516e+00 -1.99778024e-04]\n"
     ]
    }
   ],
   "source": [
    "frequency=np.linspace(1,6000,6000)\n",
    "best_vals=findgran(frequency,Fulldata)\n",
    "plt.plot(frequency,graneq(frequency,best_vals[0],best_vals[1]),'--')\n",
    "plt.plot(frequency,granulation,)\n",
    "#plt.plot(frequency,Fulldata)\n",
    "plt.show()\n",
    "print(best_vals)\n"
   ]
  },
  {
   "cell_type": "code",
   "execution_count": 23,
   "metadata": {},
   "outputs": [
    {
     "data": {
      "text/plain": [
       "[<matplotlib.lines.Line2D at 0x1382a82ab00>]"
      ]
     },
     "execution_count": 23,
     "metadata": {},
     "output_type": "execute_result"
    },
    {
     "data": {
      "image/png": "[encoded data removed]",
      "text/plain": [
       "<Figure size 432x288 with 1 Axes>"
      ]
     },
     "metadata": {},
     "output_type": "display_data"
    }
   ],
   "source": [
    "plt.plot(frequency,Fulldata)\n",
    "plt.show()\n",
    "Fulldata=addnoise(Fulldata)\n"
   ]
  },
  {
   "cell_type": "code",
   "execution_count": null,
   "metadata": {},
   "outputs": [],
   "source": []
  }
 ],
 "metadata": {
  "kernelspec": {
   "display_name": "Python 3",
   "language": "python",
   "name": "python3"
  },
  "language_info": {
   "codemirror_mode": {
    "name": "ipython",
    "version": 3
   },
   "file_extension": ".py",
   "mimetype": "text/x-python",
   "name": "python",
   "nbconvert_exporter": "python",
   "pygments_lexer": "ipython3",
   "version": "3.6.5"
  }
 },
 "nbformat": 4,
 "nbformat_minor": 2
}
