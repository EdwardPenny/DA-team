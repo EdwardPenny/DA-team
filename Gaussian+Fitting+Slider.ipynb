{
 "cells": [
  {
   "cell_type": "markdown",
   "metadata": {},
   "source": [
    "# Ratio of Power Under Background to Under Gaussian"
   ]
  },
  {
   "cell_type": "code",
   "execution_count": 1,
   "metadata": {
    "collapsed": true
   },
   "outputs": [],
   "source": [
    "import numpy as np\n",
    "import matplotlib.pyplot as plt\n",
    "import astropy.constants as c\n",
    "from scipy.signal import find_peaks\n",
    "from scipy.signal import peak_prominences\n",
    "from scipy.signal import peak_widths\n",
    "from scipy.optimize import curve_fit\n",
    "import math\n",
    "from statistics import stdev\n",
    "from scipy.integrate import quad"
   ]
  },
  {
   "cell_type": "markdown",
   "metadata": {},
   "source": [
    "def bin_it(yvalues,xvalues,binsize):\n",
    "    '''puts an array into averaged bins of a given size'''\n",
    "    N=int(math.ceil(len(yvalues)/binsize))\n",
    "    C=0\n",
    "    newy=[]\n",
    "    while C<N:\n",
    "        if (C+1)*binsize<len(yvalues):\n",
    "            Q=(np.sum(yvalues[C*binsize:(C+1)*binsize]))/binsize\n",
    "        else:\n",
    "            Q=(np.sum(yvalues[C*binsize:len(yvalues)]))/binsize\n",
    "        newy.append(Q)\n",
    "        C+=1\n",
    "    return np.array(newy),xvalues[0::binsize]"
   ]
  },
  {
   "cell_type": "code",
   "execution_count": 2,
   "metadata": {
    "collapsed": true
   },
   "outputs": [],
   "source": [
    "def bin_it(yvalues,xvalues,binsize):\n",
    "    '''puts an array into averaged bins of a given size'''\n",
    "    N=int(math.ceil(len(yvalues)/binsize))\n",
    "    C=0\n",
    "    newy=[]\n",
    "    while C<N:\n",
    "        if (C+1)*binsize<len(yvalues):\n",
    "            Q=(np.sum(yvalues[C*binsize:(C+1)*binsize]))/binsize\n",
    "        else:\n",
    "            Q=(np.sum(yvalues[C*binsize:len(yvalues)]))/binsize\n",
    "        newy.append(Q)\n",
    "        C+=1\n",
    "    return np.array(newy),xvalues[0::binsize]"
   ]
  },
  {
   "cell_type": "code",
   "execution_count": 3,
   "metadata": {
    "collapsed": true
   },
   "outputs": [],
   "source": [
    "def bin_ity(yvalues, binsize):\n",
    "    N=int(math.ceil(len(yvalues) / binsize))\n",
    "    #finds number of times code should loop, taking into acount the final group may be smaller than binsize\n",
    "    C=0\n",
    "    newy=[] #list for new y array\n",
    "    while C<N:\n",
    "        if (C+1)*binsize<len(yvalues): #if the end of the bin is still inside the orignal array\n",
    "            Q=(np.sum(yvalues[C*binsize:(C+1)*binsize]))/binsize #group of binsize averaged\n",
    "        else:\n",
    "            Q=(np.sum(yvalues[C*binsize:len(yvalues)]))/binsize\n",
    "            #if end of bin would be oustide the array use end of the array as the end of the bin\n",
    "        newy.append(Q) \n",
    "        C+=1\n",
    "    return np.array(newy)"
   ]
  },
  {
   "cell_type": "code",
   "execution_count": 4,
   "metadata": {
    "collapsed": true
   },
   "outputs": [],
   "source": [
    "#Adds random noise\n",
    "def addnoise(pure):\n",
    "    vary = np.random.uniform(0, 1, pure.shape)\n",
    "    signal = -(pure* np.log(vary))\n",
    "    return signal"
   ]
  },
  {
   "cell_type": "code",
   "execution_count": 5,
   "metadata": {
    "collapsed": true
   },
   "outputs": [],
   "source": [
    "def gausgran(x,height,centre,width):\n",
    "    '''plots a gaussian acounting for granulation'''\n",
    "    return height*np.exp((-(x-centre)**2)/(2*width**2))+fittedgran\n"
   ]
  },
  {
   "cell_type": "code",
   "execution_count": 6,
   "metadata": {
    "collapsed": true
   },
   "outputs": [],
   "source": [
    "def gausgran1(x,height,centre,width):\n",
    "   '''plots a gaussian acounting for granulation'''\n",
    "   return height*np.exp((-(x-centre)**2)/(2*width**2))+fittedgran[quater:3*quater]\n"
   ]
  },
  {
   "cell_type": "code",
   "execution_count": 7,
   "metadata": {
    "collapsed": true
   },
   "outputs": [],
   "source": [
    "def count(list1, l, r): \n",
    "    # x for x in list1 is same as traversal in the list \n",
    "    # the if condition checks for the number of numbers in the range  \n",
    "    # l to r  \n",
    "    # the return is stored in a list \n",
    "    # whose length is the answer \n",
    "    return len(list(x for x in list1 if l <= x <= r))"
   ]
  },
  {
   "cell_type": "code",
   "execution_count": 8,
   "metadata": {
    "collapsed": true
   },
   "outputs": [],
   "source": [
    "def findgran(x,y):\n",
    "    #guess_vals=[np.max(y),y[round(len(y)/4)]]\n",
    "    guess_vals=[5.84171514e+00, -1.99778025e-04]\n",
    "    best_vals, covar =curve_fit(graneq, x, y,p0=guess_vals)\n",
    "    return best_vals"
   ]
  },
  {
   "cell_type": "code",
   "execution_count": 9,
   "metadata": {
    "collapsed": true
   },
   "outputs": [],
   "source": [
    "def graneq(x,A,tau):\n",
    "    '''equation to describe the background'''\n",
    "    return A/(1+(2*np.pi*x*tau)**4)"
   ]
  },
  {
   "cell_type": "code",
   "execution_count": 10,
   "metadata": {
    "collapsed": true
   },
   "outputs": [],
   "source": [
    "def find_vmax(Fulldata,N,binsize, shot_noise_level):\n",
    "    frequency=np.linspace(1,6000,6000)\n",
    "    x = np.array(frequency)\n",
    "    vmag = np.full((len(frequency)), shot_noise_level) #where 8 defines the apparent magnitude\n",
    "    shot_noise = 18*10**(-0.4*(11.0-vmag))\n",
    "    C=0\n",
    "    fails=0\n",
    "    centres=[]\n",
    "    widths=[]\n",
    "    amps=[]\n",
    "    while C<N:\n",
    "        y=addnoise(Fulldata+shot_noise) #adds noise to y values, inside loop so each curve fit will be different due to the random noise\n",
    "        yb,xb=bin_it(y,x,binsize) #yb and xb as in xbinned and ybinned bins data with a binsize of 50\n",
    "        best_vals=findgran(xb,yb)\n",
    "        fittedgran=graneq(xb,best_vals[0],best_vals[1])\n",
    "        #guess_vals=[np.max(yb),xb[0]+(xb[-1]-xb[0])/2,(xb[-1]-xb[0])/4] #rough guesses which will change with each plot\n",
    "        guess_vals=[1,3100,300]\n",
    "        #try and except are used in case a gaussian cant be fitted to the data. try and execpt allow the code to continue even if a\n",
    "        #fit can not be found. If a fit can be found the v_max is recorded and added to an array of v_max values. If a fit can not\n",
    "        #be found the failure is recored and the code continues with the next trial\n",
    "        try: \n",
    "            best_vals, covar =curve_fit(gausgran, xb, yb,p0=guess_vals)\n",
    "            #attempts to fit a gaussian to the data taking acount of the granulation\n",
    "            centres.append(best_vals[1])\n",
    "            amps.append(best_vals[0])\n",
    "            widths.append(best_vals[2])\n",
    "        except:\n",
    "            fails+=1 #records failure\n",
    "            C+=1\n",
    "            continue\n",
    "        C+=1\n",
    "    percentage=fails*100/N\n",
    "    print(f'Number of trials {N}, binsize: {binsize}, shot noise level {shot_noise_level}')\n",
    "    print(f'{percentage}% trails failed to fit a gaussian') \n",
    "    if len(centres)<1: #prevents error in code\n",
    "        print('Code failed to fit any gaussians ')\n",
    "    else:   \n",
    "        average_centres=np.mean(centres)\n",
    "        difference=np.abs(average_centres-3100)\n",
    "        print(f'average v_max {average_centres} which is {difference} away from the true value of 3100 ')\n",
    "        print('')\n",
    "        return np.mean(centres)"
   ]
  },
  {
   "cell_type": "code",
   "execution_count": 11,
   "metadata": {
    "collapsed": true
   },
   "outputs": [],
   "source": [
    "#Using the Gaussian as the height in the function to plot the Lorentzians\n",
    "def lorentz_gauss(modes, Gauss, width):\n",
    "    Lorentzh = np.zeros(len(x))\n",
    "    for p in range(len(modes)):\n",
    "        Lorentzh+=(Gauss*((1+((x - np.array(modes)[p])/(width/2))**2)**(-1)))\n",
    "    Lorentzh_array = np.array(Lorentzh)\n",
    "    return Lorentzh_array"
   ]
  },
  {
   "cell_type": "code",
   "execution_count": 12,
   "metadata": {
    "collapsed": true
   },
   "outputs": [],
   "source": [
    "#define parameters\n",
    "delta_v_sun = 134.8 #microHz\n",
    "D = 1.5\n",
    "n=np.linspace(1,40,40)\n",
    "l= 0\n",
    "l1 = 1\n",
    "l2 = 2\n",
    "l3 = 3\n",
    "width = 10\n",
    "\n",
    "frequency=np.linspace(1,6000,6000)\n",
    "x = np.array(frequency)\n",
    "H=5\n",
    "epsilon=1.5\n",
    "V_max_sun = 3100 #microHz\n",
    "A_max_sun = 2.1 #ppm from Warrick's paper"
   ]
  },
  {
   "cell_type": "code",
   "execution_count": 13,
   "metadata": {},
   "outputs": [],
   "source": [
    "#calculate modes for different angular degree, l and radial mode, n\n",
    "modes=[]\n",
    "for i in range(len(n)):\n",
    "    modes.append(delta_v_sun*(n[i]+((l)/2)+epsilon)-D*(l)*((l)+1))\n",
    "\n",
    "modes1=[]\n",
    "for i in range(len(n)):\n",
    "    modes1.append(delta_v_sun*(n[i]+((l1)/2)+epsilon)-D*(l1)*((l1)+1))\n",
    "    \n",
    "modes2=[]\n",
    "for i in range(len(n)):\n",
    "    modes2.append(delta_v_sun*(n[i]+((l2)/2)+epsilon)-D*(l2)*((l2)+1))\n",
    "\n",
    "modes3=[]\n",
    "for i in range(len(n)):\n",
    "    modes3.append(delta_v_sun*(n[i]+((l3)/2)+epsilon)-D*(l3)*((l3)+1))\n",
    "\n",
    "#Defines Gaussian curve with height A squared\n",
    "sigma = 2.123*delta_v_sun#microHz\n",
    "Gauss = (A_max_sun**2)*(np.exp(-0.5*((x-V_max_sun)/sigma)**2))\n",
    "\n",
    "\n",
    "#Defines parameters for granulation\n",
    "tau_sun = 200 #seconds\n",
    "g_sun = 274 #metres per second squared\n",
    "T_eff_sun = 5777 #Kelvin\n",
    "sigma_sun = 50000/(c.R_sun.value/(1000*10**3)) #ppm\n",
    "\n",
    "granulation = (4*np.sqrt(2)*tau_sun/1e6*(sigma_sun)**2)/(1+(2*np.pi*x*tau_sun/1e6)**4) #ppm squared per micro hertz\n",
    "#Defines width of the Lorentzians\n",
    "alpha = -25.5+29.1 #for the Sun\n",
    "gamma_alpha = 6.3 - 1.8 #for the Sun\n",
    "linewidth = (alpha*np.log(x/V_max_sun)+np.log(gamma_alpha))\n",
    "\n",
    "\n",
    "#Heights of modes scaled to their relative visibilities \n",
    "Lorentzh_array_0 = lorentz_gauss(modes, Gauss, linewidth)\n",
    "Lorentzh_array_1 = lorentz_gauss(modes1, Gauss*1.5, linewidth)\n",
    "Lorentzh_array_2 = lorentz_gauss(modes2, Gauss*0.5, linewidth)\n",
    "Lorentzh_array_3 = lorentz_gauss(modes3, Gauss*0.04, linewidth)\n"
   ]
  },
  {
   "cell_type": "code",
   "execution_count": 14,
   "metadata": {},
   "outputs": [
    {
     "data": {
      "text/plain": [
       "Text(0, 0.5, '$Ppm^2$/$\\\\mu$Hz')"
      ]
     },
     "execution_count": 14,
     "metadata": {},
     "output_type": "execute_result"
    }
   ],
   "source": [
    "#Plots the Lorentzians with the granulation as a full spectrum\n",
    "plt.figure()\n",
    "plt.plot(x, Lorentzh_array_0+granulation, 'c')\n",
    "plt.plot(x, Lorentzh_array_1+granulation)\n",
    "plt.plot(x, Lorentzh_array_2+granulation)\n",
    "plt.plot(x, Lorentzh_array_3+granulation)\n",
    "plt.title('Frequency-Power spectrum for the Sun with Granulation')\n",
    "plt.xlabel('Frequency ($\\mu$Hz)')\n",
    "plt.ylabel('$Ppm^2$/$\\mu$Hz')"
   ]
  },
  {
   "cell_type": "code",
   "execution_count": 15,
   "metadata": {},
   "outputs": [
    {
     "data": {
      "text/plain": [
       "<Figure size 432x288 with 0 Axes>"
      ]
     },
     "execution_count": 15,
     "metadata": {},
     "output_type": "execute_result"
    }
   ],
   "source": [
    "Osc = (Lorentzh_array_0 + Lorentzh_array_1 + Lorentzh_array_2 + Lorentzh_array_3)\n",
    "G = granulation\n",
    "\n",
    "shot_noises = []\n",
    "min_mag = -1\n",
    "max_mag = 13\n",
    "nos = ((max_mag-min_mag)*4) +1\n",
    "mags = np.linspace(min_mag, max_mag, nos) #(start, stop, no. outputs)\n",
    "#print(mags)\n",
    "for m in mags:\n",
    "    vmag = np.full((6000), m) #here 8 defines the apparent magnitude\n",
    "    shot_noises.append(18*10**(-0.4*(11.0-vmag)))\n",
    "\n",
    "TotalSpec = []\n",
    "for SNL in shot_noises:\n",
    "    Spectrum = Osc + G + (SNL)\n",
    "    TotalSpec.append(Spectrum)\n",
    "#print(TotalSpec)\n",
    "\n",
    "i = 27 #Indexing to plot a single graph of given vis mag\n",
    "Solar_Comp = addnoise(TotalSpec[i])\n",
    "plt.figure()\n"
   ]
  },
  {
   "cell_type": "code",
   "execution_count": 16,
   "metadata": {},
   "outputs": [
    {
     "name": "stdout",
     "output_type": "stream",
     "text": [
      "Code is 25.0% complete\n",
      "Code is 50.0% complete\n",
      "Code is 75.0% complete\n",
      "Code is 100.0% complete\n",
      "No fails: 0\n",
      "0.0% trails failed to fit a gaussian\n",
      "\n",
      "average v_max 3092.944309079067 which is 7.0556909209331025 away from the true value of 3100 \n"
     ]
    },
    {
     "data": {
      "image/png": "[encoded data removed]",
      "text/plain": [
       "<Figure size 432x288 with 1 Axes>"
      ]
     },
     "metadata": {},
     "output_type": "display_data"
    },
    {
     "data": {
      "text/plain": [
       "<Figure size 432x288 with 0 Axes>"
      ]
     },
     "metadata": {},
     "output_type": "display_data"
    },
    {
     "data": {
      "image/png": "[encoded data removed]",
      "text/plain": [
       "<Figure size 432x288 with 1 Axes>"
      ]
     },
     "metadata": {},
     "output_type": "display_data"
    },
    {
     "data": {
      "image/png": "[encoded data removed]",
      "text/plain": [
       "<Figure size 432x288 with 1 Axes>"
      ]
     },
     "metadata": {},
     "output_type": "display_data"
    },
    {
     "data": {
      "image/png": "[encoded data removed]",
      "text/plain": [
       "<Figure size 432x288 with 1 Axes>"
      ]
     },
     "metadata": {},
     "output_type": "display_data"
    },
    {
     "data": {
      "image/png": "[encoded data removed]",
      "text/plain": [
       "<Figure size 432x288 with 1 Axes>"
      ]
     },
     "metadata": {},
     "output_type": "display_data"
    }
   ],
   "source": [
    "i = 6 #Indexing to plot a single graph of given vis mag\n",
    "Solar_Comp = addnoise(TotalSpec[i])\n",
    "plt.figure()\n",
    "\n",
    "plt.plot(x, Solar_Comp)\n",
    "plt.title(f'Frequency-Power spectrum for the Sun with $m_v$ = {mags[i]}')\n",
    "plt.xlabel('Frequency ($\\mu$Hz)')\n",
    "plt.ylabel('$ppm^2$/$\\mu$Hz')\n",
    "\n",
    "#Fulldata is the modes and the granulation without noise as this needs to be added in each loop\n",
    "#Fulldata=Lorentzh_array_0+Lorentzh_array_1+Lorentzh_array_2+Lorentzh_array_3+granulation #This is now TotalSpec\n",
    "vmag = np.full((len(frequency)), -27) #here 8 defines the apparent magnitude\n",
    "shot_noise = 18*10**(-0.4*(11.0-vmag))\n",
    "best=findgran(frequency,TotalSpec[i])\n",
    "\n",
    "frequency=np.linspace(1,6000,6000)\n",
    "x = np.array(frequency)\n",
    "binsize=90\n",
    "C=0\n",
    "Q=0\n",
    "fails=0\n",
    "centres=[]\n",
    "widths=[]\n",
    "amps=[]\n",
    "N=4000 #number of trials to find v_max with differnt noise, 4000\n",
    "while C<N:\n",
    "    y=addnoise(TotalSpec[i]) #adds noise to y values, inside loop so each curve fit will be different due to the random noise\n",
    "    yb,xb=bin_it(y,x,binsize) #yb and xb as in xbinned and ybinned bins data with a binsize of 50\n",
    "    best_vals=findgran(xb,yb)\n",
    "    fittedgran=graneq(xb,best_vals[0],best_vals[1])\n",
    "    guess_vals=[np.max(yb),xb[0]+(xb[-1]-xb[0])/2,(xb[-1]-xb[0])/4] #rough guesses which will change with each plot\n",
    "    #try and except are used in case a gaussian cant be fitted to the data. try and execpt allow the code to continue even if a\n",
    "    #fit can not be found. If a fit can be found the v_max is recorded and added to an array of v_max values. If a fit can not\n",
    "    #be found the failure is recored and the code continues with the next trial\n",
    "    try: \n",
    "        best_vals, covar =curve_fit(gausgran, xb, yb,p0=guess_vals)\n",
    "        #attempts to fit a gaussian to the data taking acount of the granulation\n",
    "        '''section bellow can be used to look at indivudal results'''\n",
    "        #if best_vals[1]<2400:\n",
    "        #    if Q<2:\n",
    "        #        plt.plot(xb,gausgran(xb,best_vals[0],best_vals[1],best_vals[2]))\n",
    "        #        plt.plot(xb,yb)\n",
    "        #        plt.axvline(best_vals[1],color='red')\n",
    "        #        plt.show()\n",
    "        #        Q+=1\n",
    "    except:\n",
    "        fails+=1 #records failure\n",
    "        C+=1\n",
    "        continue\n",
    "    centres.append(best_vals[1])\n",
    "    amps.append(best_vals[0])\n",
    "    widths.append(best_vals[2])\n",
    "    C+=1\n",
    "    if C % (25*(N/100)) == 0:\n",
    "        print(f'Code is {C/(N/100)}% complete') #if statment that allows tracking of code completion while it is running\n",
    "percentage=fails*100/N\n",
    "print(f'No fails: {fails}')\n",
    "print(f'{percentage}% trails failed to fit a gaussian') \n",
    "if len(centres)<1: #prevents error is code\n",
    "    print('Code failed to fit any gaussians ')\n",
    "    print(fails)\n",
    "else:   \n",
    "    average_centres=np.mean(centres)\n",
    "    difference=np.abs(average_centres-3100)\n",
    "    print('')\n",
    "    print(f'average v_max {average_centres} which is {difference} away from the true value of 3100 ')\n",
    "    x_vals=bin_it(addnoise(TotalSpec[i]),x,binsize)[1]\n",
    "    y_vals=bin_it(addnoise(TotalSpec[i]),x,binsize)[0]\n",
    "    plt.figure()\n",
    "    plt.plot(x_vals,y_vals, label='Binned Sun Data')\n",
    "    \n",
    "    plt.figure()\n",
    "    plt.plot(x_vals,y_vals, label='Binned Sun Data')\n",
    "    plt.plot(x_vals,gausgran(x_vals,np.mean(amps),np.mean(centres),np.mean(widths)), \n",
    "             label='Averaged Fitted Gaussian Including Granulation')\n",
    "    plt.xlabel('Frequency')\n",
    "    plt.ylabel('Power')\n",
    "    plt.title('fitted gaussain ')\n",
    "    plt.legend()\n",
    "    plt.show()\n",
    "    \n",
    "    plt.figure()\n",
    "    quater=int(len(x_vals)/4)\n",
    "    plt.plot(x_vals[quater:3*quater],y_vals[quater:3*quater], label='Binned Sun Data')\n",
    "    plt.plot(x_vals[quater:3*quater],gausgran1(x_vals[quater:3*quater],np.mean(amps),np.mean(centres),np.mean(widths)),\n",
    "            label='Fitted Gaussian Including Granulation')\n",
    "    plt.xlabel('Frequency')\n",
    "    plt.ylabel('Power')\n",
    "    plt.title('fitted gaussain cropped down')\n",
    "    plt.legend()\n",
    "    plt.show()\n"
   ]
  },
  {
   "cell_type": "code",
   "execution_count": 17,
   "metadata": {},
   "outputs": [
    {
     "name": "stdout",
     "output_type": "stream",
     "text": [
      "Power under background (5167.410869657337, 4.883009322408094e-10)\n",
      "Power under Gaussian (188.7312100050173, 1.4854778537277957e-07)\n",
      "Ratio of power under background to power under gaussian: 0.0365233604924341\n",
      "Error on the this ratio: 2.8747043769177438e-11\n"
     ]
    },
    {
     "data": {
      "text/plain": [
       "<matplotlib.legend.Legend at 0x124525ef0>"
      ]
     },
     "execution_count": 17,
     "metadata": {},
     "output_type": "execute_result"
    }
   ],
   "source": [
    "plt.figure()\n",
    "plt.plot(x, granulation, label='Background')\n",
    "plt.plot(x_vals, gausgran(x_vals,np.mean(amps),np.mean(centres),np.mean(widths)), label='Background with Gaussian')\n",
    "\n",
    "def integrand_b(x, a, b):\n",
    "    I = a/(1+(2*np.pi*x*b)**4)\n",
    "    return I\n",
    "a = best[0]\n",
    "b = best[1]\n",
    "Int_background = quad(integrand_b, 0, 6000, args=(a,b))\n",
    "print(f'Power under background {Int_background}')\n",
    "\n",
    "def integrand_g(x, a, b, c):\n",
    "    I = a*np.exp((-(x-b)**2)/(2*c**2))\n",
    "    return I \n",
    "a = np.mean(amps)\n",
    "b = np.mean(centres)\n",
    "c = np.mean(widths)\n",
    "\n",
    "Int_gaus = quad(integrand_g, 0, 6000, args=(a,b,c))\n",
    "print(f'Power under Gaussian {Int_gaus}')\n",
    "\n",
    "ratio = Int_gaus[0]/Int_background[0]\n",
    "print(f'Ratio of power under background to power under gaussian: {ratio}')\n",
    "\n",
    "error = ratio*np.sqrt((Int_background[1]/Int_background[0])**2 + (Int_gaus[1]/Int_gaus[0])**2)\n",
    "print(f'Error on the this ratio: {error}')\n",
    "\n",
    "\n",
    "def full_gaus(x, a, b, c):\n",
    "    G = a*np.exp((-(x-b)**2)/(2*c**2))\n",
    "    return G\n",
    "\n",
    "plt.plot(x, full_gaus(x, a, b, c), label='Full Gaussian')\n",
    "\n",
    "plt.legend()\n",
    "\n",
    "\n"
   ]
  },
  {
   "cell_type": "code",
   "execution_count": 18,
   "metadata": {},
   "outputs": [],
   "source": [
    "import numpy as np\n",
    "import matplotlib.pyplot as plt\n",
    "from matplotlib.widgets import Slider, Button, RadioButtons\n",
    "\n",
    "%matplotlib qt \n",
    "\n",
    "fig, ax = plt.subplots()\n",
    "plt.subplots_adjust(left=0.25, bottom=0.25)\n",
    "f = np.arange(0.0, 6000, 1)\n",
    "a0 = 2\n",
    "v0= 3000\n",
    "sig0 = 570\n",
    "delta_f = 5.0\n",
    "s = a0*(np.exp(-0.5*((f-v0)**2/sig0**2)))\n",
    "l, = plt.plot(f, s, lw=2)\n",
    "plt.plot(x_vals,y_vals, label='Binned Sun Data')\n",
    "ax.margins(x=0)\n",
    "axcolor = 'lightgoldenrodyellow'\n",
    "axcent = plt.axes([0.25, 0.05, 0.65, 0.03], facecolor=axcolor)\n",
    "axamp = plt.axes([0.25, 0.1, 0.65, 0.03], facecolor=axcolor)\n",
    "axsig = plt.axes([0.25, 0.15, 0.65, 0.03], facecolor=axcolor)\n",
    "scentre = Slider(axcent, 'nu{max}', 0.1, 4000, valinit=v0, valstep=delta_f)\n",
    "samp = Slider(axamp, 'Amp', 0.1, 2, valinit=a0)\n",
    "ssig = Slider(axsig, 'Sigma', 0.1, 1000, valinit=sig0, valstep= delta_f)\n",
    "def update(val):\n",
    "    amp = samp.val\n",
    "    cent = scentre.val\n",
    "    sig = ssig.val\n",
    "    l.set_ydata(amp*(np.exp(-0.5*((f-cent)**2/sig**2))))\n",
    "    fig.canvas.draw_idle()\n",
    "scentre.on_changed(update)\n",
    "samp.on_changed(update)\n",
    "ssig.on_changed(update)\n",
    "resetax = plt.axes([0.8, 0.005, 0.1, 0.04])\n",
    "button = Button(resetax, 'Reset', color=axcolor, hovercolor='0.975')\n",
    "def reset(event):\n",
    "    scentre.reset()\n",
    "    samp.reset()\n",
    "    ssig.reset()\n",
    "button.on_clicked(reset)\n",
    "rax = plt.axes([0.025, 0.5, 0.15, 0.15], facecolor=axcolor)\n",
    "radio = RadioButtons(rax, ('cyan', 'magenta', 'yellow'), active=0)\n",
    "def colorfunc(label):\n",
    "    l.set_color(label)\n",
    "    fig.canvas.draw_idle()\n",
    "radio.on_clicked(colorfunc)\n",
    "\n",
    "\n",
    "plt.show()\n",
    "\n",
    "\n"
   ]
  }
 ],
 "metadata": {
  "kernelspec": {
   "display_name": "Python 3",
   "language": "python",
   "name": "python3"
  },
  "language_info": {
   "codemirror_mode": {
    "name": "ipython",
    "version": 3
   },
   "file_extension": ".py",
   "mimetype": "text/x-python",
   "name": "python",
   "nbconvert_exporter": "python",
   "pygments_lexer": "ipython3",
   "version": "3.6.5"
  }
 },
 "nbformat": 4,
 "nbformat_minor": 2
}
