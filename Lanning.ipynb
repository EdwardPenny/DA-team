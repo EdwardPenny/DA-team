{
 "cells": [
  {
   "cell_type": "code",
   "execution_count": 60,
   "metadata": {},
   "outputs": [],
   "source": [
    "import numpy as np \n",
    "import matplotlib.pyplot as plt\n",
    "import astropy.constants as c\n",
    "from scipy.signal import find_peaks\n",
    "from scipy.signal import peak_prominences\n",
    "from scipy.signal import peak_widths\n",
    "from scipy.optimize import curve_fit\n",
    "import math\n",
    "from statistics import stdev\n",
    "from scipy.integrate import quad\n",
    "import matplotlib.pyplot as plt\n",
    "from matplotlib.widgets import Slider, Button, RadioButtons"
   ]
  },
  {
   "cell_type": "code",
   "execution_count": null,
   "metadata": {},
   "outputs": [],
   "source": [
    "data=np.genfromtxt('Kypointsrange(0, 20)(2).txt', delimiter=' ')\n",
    "extradata=np.genfromtxt('Kotherstuffrange(0, 20)(2).txt', delimiter=' ')\n",
    "\n",
    "Stars = np.linspace(1, 50, 50)\n",
    "GG=np.genfromtxt('Star Quiz data 50 stars 6 testers',delimiter=' ')\n",
    "GG=np.array(GG)\n",
    "Quizdata=GG.reshape((int(6),len(Stars)))\n",
    "print(Quizdata.shape)"
   ]
  },
  {
   "cell_type": "code",
   "execution_count": 149,
   "metadata": {},
   "outputs": [],
   "source": [
    "def most_frequent(List):\n",
    "    List=list(List)\n",
    "    return max(set(List), key = List.count)"
   ]
  },
  {
   "cell_type": "code",
   "execution_count": 150,
   "metadata": {},
   "outputs": [
    {
     "name": "stdout",
     "output_type": "stream",
     "text": [
      "1.0\n"
     ]
    }
   ],
   "source": [
    "mode = most_frequent(Quizdata[0])\n",
    "print(mode)"
   ]
  },
  {
   "cell_type": "code",
   "execution_count": 151,
   "metadata": {},
   "outputs": [],
   "source": [
    "maybe_stars=[]\n",
    "yes_stars=[]"
   ]
  },
  {
   "cell_type": "code",
   "execution_count": 152,
   "metadata": {},
   "outputs": [
    {
     "name": "stdout",
     "output_type": "stream",
     "text": [
      "[2.0, 5.0, 6.0, 7.0, 11.0, 14.0, 16.0, 26.0, 29.0, 30.0, 34.0, 44.0]\n",
      "[1.0, 4.0, 8.0, 13.0, 15.0]\n"
     ]
    }
   ],
   "source": [
    "for n in Stars: \n",
    "    Q=most_frequent(Quizdata[:,int(n)-1])\n",
    "    if Q==0:\n",
    "        maybe_stars.append(n)\n",
    "    if Q==2:\n",
    "        yes_stars.append(n)\n",
    "        \n",
    "print(maybe_stars)\n",
    "print(yes_stars)\n",
    "        "
   ]
  },
  {
   "cell_type": "code",
   "execution_count": 153,
   "metadata": {},
   "outputs": [],
   "source": [
    "def bin_it(yvalues, xvalues, binsize):\n",
    "    '''puts an array into averaged bins of a given size'''\n",
    "    N=int(math.ceil(len(yvalues)/binsize))\n",
    "    C=0\n",
    "    newy=[]\n",
    "    while C<N:\n",
    "        if (C+1)*binsize<len(yvalues):\n",
    "            Q=(np.sum(yvalues[C*binsize:(C+1)*binsize]))/binsize\n",
    "        else:\n",
    "            Q=(np.sum(yvalues[C*binsize:len(yvalues)]))/binsize\n",
    "        newy.append(Q)\n",
    "        C+=1\n",
    "    y=np.array(newy)\n",
    "    x=xvalues[0::binsize] \n",
    "    return y[0:len(y)-1], x[0:len(y)-1]"
   ]
  },
  {
   "cell_type": "code",
   "execution_count": 154,
   "metadata": {},
   "outputs": [],
   "source": [
    "#Adds random noise\n",
    "def addnoise(pure):\n",
    "    vary = np.random.uniform(0, 1, pure.shape)\n",
    "    signal = -(pure* np.log(vary))\n",
    "    return signal"
   ]
  },
  {
   "cell_type": "code",
   "execution_count": 155,
   "metadata": {},
   "outputs": [],
   "source": [
    "def gaus(x, height, centre, width):\n",
    "    '''plots a gaussian acounting for granulation'''\n",
    "    return height*np.exp((-(x-centre)**2)/(2*width**2))"
   ]
  },
  {
   "cell_type": "code",
   "execution_count": 156,
   "metadata": {},
   "outputs": [],
   "source": [
    "def findgran(x, y):\n",
    "    #guess_vals=[np.max(y),y[round(len(y)/4)]]\n",
    "    guess_vals=[0, 0]\n",
    "    best_vals, covar =curve_fit(graneq, x, y, p0=guess_vals)\n",
    "    return best_vals"
   ]
  },
  {
   "cell_type": "code",
   "execution_count": 157,
   "metadata": {},
   "outputs": [],
   "source": [
    "def graneq(x,A,tau,SN):\n",
    "    '''equation to describe the background'''\n",
    "    return A/(1+(2*np.pi*x*tau)**4)+SN"
   ]
  },
  {
   "cell_type": "code",
   "execution_count": 158,
   "metadata": {},
   "outputs": [],
   "source": [
    "def find_nearest(array, value):\n",
    "    '''finds value closest to a given value in an array'''\n",
    "    array = np.asarray(array)\n",
    "    idx = (np.abs(array-value)).argmin()\n",
    "    return idx"
   ]
  },
  {
   "cell_type": "code",
   "execution_count": 159,
   "metadata": {},
   "outputs": [],
   "source": [
    "def f(x,a,b):\n",
    "    return a*x+b\n",
    "def f1(x,a,b,c):\n",
    "    return a*np.exp(b*x)+c"
   ]
  },
  {
   "cell_type": "code",
   "execution_count": 160,
   "metadata": {},
   "outputs": [],
   "source": [
    "binsize=5000\n",
    "frequency = data[0]"
   ]
  },
  {
   "cell_type": "code",
   "execution_count": 164,
   "metadata": {},
   "outputs": [],
   "source": [
    "binsize=5000\n",
    "\n",
    "n = 15\n",
    "SN = 18*10**(-0.4*(11.0-extradata[int(n)-1,2]))\n",
    "\n",
    "y1,x1=data[int(n)],frequency\n",
    "y2,x2=addnoise(data[int(n)]),frequency\n",
    "y3,x3=bin_it(data[int(n)],frequency,binsize)\n",
    "y,x=bin_it(addnoise(data[int(n)]),frequency,binsize)"
   ]
  },
  {
   "cell_type": "code",
   "execution_count": 165,
   "metadata": {},
   "outputs": [
    {
     "data": {
      "image/png": "[encoded data removed]",
      "text/plain": [
       "<Figure size 432x288 with 1 Axes>"
      ]
     },
     "metadata": {
      "needs_background": "light"
     },
     "output_type": "display_data"
    },
    {
     "data": {
      "image/png": "[encoded data removed]",
      "text/plain": [
       "<Figure size 432x288 with 1 Axes>"
      ]
     },
     "metadata": {
      "needs_background": "light"
     },
     "output_type": "display_data"
    },
    {
     "data": {
      "image/png": "[encoded data removed]",
      "text/plain": [
       "<Figure size 432x288 with 1 Axes>"
      ]
     },
     "metadata": {
      "needs_background": "light"
     },
     "output_type": "display_data"
    },
    {
     "data": {
      "image/png": "[encoded data removed]",
      "text/plain": [
       "<Figure size 432x288 with 1 Axes>"
      ]
     },
     "metadata": {
      "needs_background": "light"
     },
     "output_type": "display_data"
    }
   ],
   "source": [
    "bv,covar = curve_fit(graneq,x,y,p0=[0,0,SN], bounds=([0,0,SN-SN/100],[np.inf,np.inf,SN+SN/100]))\n",
    "\n",
    "background=graneq(x,bv[0],bv[1],bv[2])\n",
    "\n",
    "plt.figure()\n",
    "plt.plot(x, background, label='Background Fit')\n",
    "plt.plot(x, y, label=f'Binned Data, Star {n}')\n",
    "plt.legend()\n",
    "plt.show()\n",
    "\n",
    "plt.figure()\n",
    "plt.plot(x1, y1)\n",
    "plt.show()\n",
    "\n",
    "plt.figure()\n",
    "plt.plot(x2,y2)\n",
    "plt.show()\n",
    "\n",
    "plt.figure()\n",
    "plt.plot(x3,y3)\n",
    "plt.show()"
   ]
  },
  {
   "cell_type": "code",
   "execution_count": 32,
   "metadata": {},
   "outputs": [
    {
     "ename": "ValueError",
     "evalue": "x and y must have same first dimension, but have shapes (210,) and (0,)",
     "output_type": "error",
     "traceback": [
      "\u001b[0;31m---------------------------------------------------------------------------\u001b[0m",
      "\u001b[0;31mValueError\u001b[0m                                Traceback (most recent call last)",
      "\u001b[0;32m<ipython-input-32-0e9d9a6ca1c9>\u001b[0m in \u001b[0;36m<module>\u001b[0;34m\u001b[0m\n\u001b[1;32m     10\u001b[0m \u001b[0ms\u001b[0m \u001b[0;34m=\u001b[0m \u001b[0ma0\u001b[0m\u001b[0;34m*\u001b[0m\u001b[0;34m(\u001b[0m\u001b[0mnp\u001b[0m\u001b[0;34m.\u001b[0m\u001b[0mexp\u001b[0m\u001b[0;34m(\u001b[0m\u001b[0;34m-\u001b[0m\u001b[0;36m0.5\u001b[0m\u001b[0;34m*\u001b[0m\u001b[0;34m(\u001b[0m\u001b[0;34m(\u001b[0m\u001b[0mf\u001b[0m\u001b[0;34m-\u001b[0m\u001b[0mv0\u001b[0m\u001b[0;34m)\u001b[0m\u001b[0;34m**\u001b[0m\u001b[0;36m2\u001b[0m\u001b[0;34m/\u001b[0m\u001b[0msig0\u001b[0m\u001b[0;34m**\u001b[0m\u001b[0;36m2\u001b[0m\u001b[0;34m)\u001b[0m\u001b[0;34m)\u001b[0m\u001b[0;34m)\u001b[0m \u001b[0;31m#gaussian equation\u001b[0m\u001b[0;34m\u001b[0m\u001b[0;34m\u001b[0m\u001b[0m\n\u001b[1;32m     11\u001b[0m \u001b[0ml\u001b[0m\u001b[0;34m,\u001b[0m \u001b[0;34m=\u001b[0m \u001b[0mplt\u001b[0m\u001b[0;34m.\u001b[0m\u001b[0mplot\u001b[0m\u001b[0;34m(\u001b[0m\u001b[0mf\u001b[0m\u001b[0;34m,\u001b[0m \u001b[0ms\u001b[0m\u001b[0;34m,\u001b[0m \u001b[0;34m'g'\u001b[0m\u001b[0;34m,\u001b[0m \u001b[0mlabel\u001b[0m\u001b[0;34m=\u001b[0m\u001b[0;34m'Gaussian Fit'\u001b[0m\u001b[0;34m)\u001b[0m\u001b[0;34m\u001b[0m\u001b[0;34m\u001b[0m\u001b[0m\n\u001b[0;32m---> 12\u001b[0;31m \u001b[0mplt\u001b[0m\u001b[0;34m.\u001b[0m\u001b[0mplot\u001b[0m\u001b[0;34m(\u001b[0m\u001b[0mx\u001b[0m\u001b[0;34m,\u001b[0m \u001b[0mbackground\u001b[0m\u001b[0;34m,\u001b[0m \u001b[0mlabel\u001b[0m\u001b[0;34m=\u001b[0m\u001b[0;34m'Background Fit'\u001b[0m\u001b[0;34m)\u001b[0m\u001b[0;34m\u001b[0m\u001b[0;34m\u001b[0m\u001b[0m\n\u001b[0m\u001b[1;32m     13\u001b[0m \u001b[0mplt\u001b[0m\u001b[0;34m.\u001b[0m\u001b[0mplot\u001b[0m\u001b[0;34m(\u001b[0m\u001b[0mx\u001b[0m\u001b[0;34m,\u001b[0m \u001b[0my\u001b[0m\u001b[0;34m,\u001b[0m \u001b[0mlabel\u001b[0m\u001b[0;34m=\u001b[0m\u001b[0;34mf'Binned Data, Star {n}'\u001b[0m\u001b[0;34m)\u001b[0m\u001b[0;34m\u001b[0m\u001b[0;34m\u001b[0m\u001b[0m\n\u001b[1;32m     14\u001b[0m \u001b[0mplt\u001b[0m\u001b[0;34m.\u001b[0m\u001b[0mxlabel\u001b[0m\u001b[0;34m(\u001b[0m\u001b[0;34m'Frequency ($\\mu Hz$)'\u001b[0m\u001b[0;34m)\u001b[0m\u001b[0;34m\u001b[0m\u001b[0;34m\u001b[0m\u001b[0m\n",
      "\u001b[0;32m/opt/anaconda3/lib/python3.7/site-packages/matplotlib/pyplot.py\u001b[0m in \u001b[0;36mplot\u001b[0;34m(scalex, scaley, data, *args, **kwargs)\u001b[0m\n\u001b[1;32m   2794\u001b[0m     return gca().plot(\n\u001b[1;32m   2795\u001b[0m         *args, scalex=scalex, scaley=scaley, **({\"data\": data} if data\n\u001b[0;32m-> 2796\u001b[0;31m         is not None else {}), **kwargs)\n\u001b[0m\u001b[1;32m   2797\u001b[0m \u001b[0;34m\u001b[0m\u001b[0m\n\u001b[1;32m   2798\u001b[0m \u001b[0;34m\u001b[0m\u001b[0m\n",
      "\u001b[0;32m/opt/anaconda3/lib/python3.7/site-packages/matplotlib/axes/_axes.py\u001b[0m in \u001b[0;36mplot\u001b[0;34m(self, scalex, scaley, data, *args, **kwargs)\u001b[0m\n\u001b[1;32m   1663\u001b[0m         \"\"\"\n\u001b[1;32m   1664\u001b[0m         \u001b[0mkwargs\u001b[0m \u001b[0;34m=\u001b[0m \u001b[0mcbook\u001b[0m\u001b[0;34m.\u001b[0m\u001b[0mnormalize_kwargs\u001b[0m\u001b[0;34m(\u001b[0m\u001b[0mkwargs\u001b[0m\u001b[0;34m,\u001b[0m \u001b[0mmlines\u001b[0m\u001b[0;34m.\u001b[0m\u001b[0mLine2D\u001b[0m\u001b[0;34m.\u001b[0m\u001b[0m_alias_map\u001b[0m\u001b[0;34m)\u001b[0m\u001b[0;34m\u001b[0m\u001b[0;34m\u001b[0m\u001b[0m\n\u001b[0;32m-> 1665\u001b[0;31m         \u001b[0mlines\u001b[0m \u001b[0;34m=\u001b[0m \u001b[0;34m[\u001b[0m\u001b[0;34m*\u001b[0m\u001b[0mself\u001b[0m\u001b[0;34m.\u001b[0m\u001b[0m_get_lines\u001b[0m\u001b[0;34m(\u001b[0m\u001b[0;34m*\u001b[0m\u001b[0margs\u001b[0m\u001b[0;34m,\u001b[0m \u001b[0mdata\u001b[0m\u001b[0;34m=\u001b[0m\u001b[0mdata\u001b[0m\u001b[0;34m,\u001b[0m \u001b[0;34m**\u001b[0m\u001b[0mkwargs\u001b[0m\u001b[0;34m)\u001b[0m\u001b[0;34m]\u001b[0m\u001b[0;34m\u001b[0m\u001b[0;34m\u001b[0m\u001b[0m\n\u001b[0m\u001b[1;32m   1666\u001b[0m         \u001b[0;32mfor\u001b[0m \u001b[0mline\u001b[0m \u001b[0;32min\u001b[0m \u001b[0mlines\u001b[0m\u001b[0;34m:\u001b[0m\u001b[0;34m\u001b[0m\u001b[0;34m\u001b[0m\u001b[0m\n\u001b[1;32m   1667\u001b[0m             \u001b[0mself\u001b[0m\u001b[0;34m.\u001b[0m\u001b[0madd_line\u001b[0m\u001b[0;34m(\u001b[0m\u001b[0mline\u001b[0m\u001b[0;34m)\u001b[0m\u001b[0;34m\u001b[0m\u001b[0;34m\u001b[0m\u001b[0m\n",
      "\u001b[0;32m/opt/anaconda3/lib/python3.7/site-packages/matplotlib/axes/_base.py\u001b[0m in \u001b[0;36m__call__\u001b[0;34m(self, *args, **kwargs)\u001b[0m\n\u001b[1;32m    223\u001b[0m                 \u001b[0mthis\u001b[0m \u001b[0;34m+=\u001b[0m \u001b[0margs\u001b[0m\u001b[0;34m[\u001b[0m\u001b[0;36m0\u001b[0m\u001b[0;34m]\u001b[0m\u001b[0;34m,\u001b[0m\u001b[0;34m\u001b[0m\u001b[0;34m\u001b[0m\u001b[0m\n\u001b[1;32m    224\u001b[0m                 \u001b[0margs\u001b[0m \u001b[0;34m=\u001b[0m \u001b[0margs\u001b[0m\u001b[0;34m[\u001b[0m\u001b[0;36m1\u001b[0m\u001b[0;34m:\u001b[0m\u001b[0;34m]\u001b[0m\u001b[0;34m\u001b[0m\u001b[0;34m\u001b[0m\u001b[0m\n\u001b[0;32m--> 225\u001b[0;31m             \u001b[0;32myield\u001b[0m \u001b[0;32mfrom\u001b[0m \u001b[0mself\u001b[0m\u001b[0;34m.\u001b[0m\u001b[0m_plot_args\u001b[0m\u001b[0;34m(\u001b[0m\u001b[0mthis\u001b[0m\u001b[0;34m,\u001b[0m \u001b[0mkwargs\u001b[0m\u001b[0;34m)\u001b[0m\u001b[0;34m\u001b[0m\u001b[0;34m\u001b[0m\u001b[0m\n\u001b[0m\u001b[1;32m    226\u001b[0m \u001b[0;34m\u001b[0m\u001b[0m\n\u001b[1;32m    227\u001b[0m     \u001b[0;32mdef\u001b[0m \u001b[0mget_next_color\u001b[0m\u001b[0;34m(\u001b[0m\u001b[0mself\u001b[0m\u001b[0;34m)\u001b[0m\u001b[0;34m:\u001b[0m\u001b[0;34m\u001b[0m\u001b[0;34m\u001b[0m\u001b[0m\n",
      "\u001b[0;32m/opt/anaconda3/lib/python3.7/site-packages/matplotlib/axes/_base.py\u001b[0m in \u001b[0;36m_plot_args\u001b[0;34m(self, tup, kwargs)\u001b[0m\n\u001b[1;32m    389\u001b[0m             \u001b[0mx\u001b[0m\u001b[0;34m,\u001b[0m \u001b[0my\u001b[0m \u001b[0;34m=\u001b[0m \u001b[0mindex_of\u001b[0m\u001b[0;34m(\u001b[0m\u001b[0mtup\u001b[0m\u001b[0;34m[\u001b[0m\u001b[0;34m-\u001b[0m\u001b[0;36m1\u001b[0m\u001b[0;34m]\u001b[0m\u001b[0;34m)\u001b[0m\u001b[0;34m\u001b[0m\u001b[0;34m\u001b[0m\u001b[0m\n\u001b[1;32m    390\u001b[0m \u001b[0;34m\u001b[0m\u001b[0m\n\u001b[0;32m--> 391\u001b[0;31m         \u001b[0mx\u001b[0m\u001b[0;34m,\u001b[0m \u001b[0my\u001b[0m \u001b[0;34m=\u001b[0m \u001b[0mself\u001b[0m\u001b[0;34m.\u001b[0m\u001b[0m_xy_from_xy\u001b[0m\u001b[0;34m(\u001b[0m\u001b[0mx\u001b[0m\u001b[0;34m,\u001b[0m \u001b[0my\u001b[0m\u001b[0;34m)\u001b[0m\u001b[0;34m\u001b[0m\u001b[0;34m\u001b[0m\u001b[0m\n\u001b[0m\u001b[1;32m    392\u001b[0m \u001b[0;34m\u001b[0m\u001b[0m\n\u001b[1;32m    393\u001b[0m         \u001b[0;32mif\u001b[0m \u001b[0mself\u001b[0m\u001b[0;34m.\u001b[0m\u001b[0mcommand\u001b[0m \u001b[0;34m==\u001b[0m \u001b[0;34m'plot'\u001b[0m\u001b[0;34m:\u001b[0m\u001b[0;34m\u001b[0m\u001b[0;34m\u001b[0m\u001b[0m\n",
      "\u001b[0;32m/opt/anaconda3/lib/python3.7/site-packages/matplotlib/axes/_base.py\u001b[0m in \u001b[0;36m_xy_from_xy\u001b[0;34m(self, x, y)\u001b[0m\n\u001b[1;32m    268\u001b[0m         \u001b[0;32mif\u001b[0m \u001b[0mx\u001b[0m\u001b[0;34m.\u001b[0m\u001b[0mshape\u001b[0m\u001b[0;34m[\u001b[0m\u001b[0;36m0\u001b[0m\u001b[0;34m]\u001b[0m \u001b[0;34m!=\u001b[0m \u001b[0my\u001b[0m\u001b[0;34m.\u001b[0m\u001b[0mshape\u001b[0m\u001b[0;34m[\u001b[0m\u001b[0;36m0\u001b[0m\u001b[0;34m]\u001b[0m\u001b[0;34m:\u001b[0m\u001b[0;34m\u001b[0m\u001b[0;34m\u001b[0m\u001b[0m\n\u001b[1;32m    269\u001b[0m             raise ValueError(\"x and y must have same first dimension, but \"\n\u001b[0;32m--> 270\u001b[0;31m                              \"have shapes {} and {}\".format(x.shape, y.shape))\n\u001b[0m\u001b[1;32m    271\u001b[0m         \u001b[0;32mif\u001b[0m \u001b[0mx\u001b[0m\u001b[0;34m.\u001b[0m\u001b[0mndim\u001b[0m \u001b[0;34m>\u001b[0m \u001b[0;36m2\u001b[0m \u001b[0;32mor\u001b[0m \u001b[0my\u001b[0m\u001b[0;34m.\u001b[0m\u001b[0mndim\u001b[0m \u001b[0;34m>\u001b[0m \u001b[0;36m2\u001b[0m\u001b[0;34m:\u001b[0m\u001b[0;34m\u001b[0m\u001b[0;34m\u001b[0m\u001b[0m\n\u001b[1;32m    272\u001b[0m             raise ValueError(\"x and y can be no greater than 2-D, but have \"\n",
      "\u001b[0;31mValueError\u001b[0m: x and y must have same first dimension, but have shapes (210,) and (0,)"
     ]
    }
   ],
   "source": [
    "%matplotlib qt\n",
    "\n",
    "fig, ax = plt.subplots()\n",
    "plt.subplots_adjust(left=0.25, bottom=0.25)\n",
    "f = np.arange(0.0, 20000, 1) #x-axis\n",
    "a0 = 2  #starting conditons for amplitude, centre and width\n",
    "v0= 3000\n",
    "sig0 = 50\n",
    "delta_f = 5.0\n",
    "s = a0*(np.exp(-0.5*((f-v0)**2/sig0**2))) #gaussian equation\n",
    "l, = plt.plot(f, s, 'g', label='Gaussian Fit')\n",
    "plt.plot(x, background, label='Background Fit')\n",
    "plt.plot(x, y, label=f'Binned Data, Star {n}') \n",
    "plt.xlabel('Frequency ($\\mu Hz$)')\n",
    "plt.ylabel('Power ($ppm^2 \\mu Hz^{-1}$)')\n",
    "plt.legend()\n",
    "\n",
    "ax.margins(x=0)\n",
    "axcolor = 'lavender'\n",
    "axcent = plt.axes([0.25, 0.02, 0.65, 0.03], facecolor=axcolor) #positions of the sliders\n",
    "axamp = plt.axes([0.25, 0.07, 0.65, 0.03], facecolor=axcolor)\n",
    "axsig = plt.axes([0.25, 0.12, 0.65, 0.03], facecolor=axcolor)\n",
    "\n",
    "scentre = Slider(axcent, 'nu{max}', 0.1, 15000, valinit=v0, valstep=delta_f) #parameters for sliders\n",
    "scentre.valtext.set_visible(False) #removing the values so that fitting isn't as biased\n",
    "samp = Slider(axamp, 'Amp', 0.1, 4, valinit=a0)\n",
    "samp.valtext.set_visible(False)\n",
    "ssig = Slider(axsig, 'Sigma', 0.1, 5000, valinit=sig0, valstep= delta_f)\n",
    "ssig.valtext.set_visible(False)\n",
    "\n",
    "def update(val): #function to update the amp, cent and width values as the slider is moved\n",
    "    amp = samp.val\n",
    "    cent = scentre.val\n",
    "    sig = ssig.val\n",
    "    l.set_ydata(amp*(np.exp(-0.5*((f-cent)**2/(sig**2)))))\n",
    "    fig.canvas.draw_idle()\n",
    "scentre.on_changed(update)\n",
    "samp.on_changed(update)\n",
    "ssig.on_changed(update)\n",
    "\n",
    "integrateax = plt.axes([0.025, 0.25, 0.1, 0.04]) #position of integrate button\n",
    "button1 = Button(integrateax, 'Integrate', color=axcolor, hovercolor='0.975') #creation of integrate button\n",
    "\n",
    "def integrand_b(x, a, b): #integrate under background curve\n",
    "    I = a/(1+(2*np.pi*x*b)**4)\n",
    "    return I\n",
    "a = bv[0] #values for A and tau\n",
    "b = bv[1]\n",
    "Int_background = quad(integrand_b, 0, 6000, args=(a,b))\n",
    "\n",
    "def integrand_g(x, a, b, c):\n",
    "    I = a*np.exp((-(x-b)**2)/(2*c**2))\n",
    "    return I \n",
    "\n",
    "gauss = []\n",
    "gausserr = []\n",
    "background = []\n",
    "backgrounderr = []\n",
    "def integrate(event): #defining what happens when 'integrate' button is clicked\n",
    "    a = samp.val #values for a, b and c in integrand_g\n",
    "    b = scentre.val\n",
    "    c = ssig.val\n",
    "    Int_gaus = quad(integrand_g, 0, 6000, args=(a,b,c))\n",
    "    print(f'Power under Gaussian {Int_gaus}')\n",
    "    print(f'Power under background {Int_background}')\n",
    "    gauss.append(Int_gaus[0])\n",
    "    gausserr.append(Int_gaus[1])\n",
    "    background.append(Int_background[0])\n",
    "    backgrounderr.append(Int_background[1])\n",
    "button1.on_clicked(integrate)\n",
    "\n",
    "resetax = plt.axes([0.025, 0.3, 0.1, 0.04]) #position of reset button\n",
    "button2 = Button(resetax, 'Reset', color=axcolor, hovercolor='0.975') #creating reset button\n",
    "def reset(event): #defining what happens when 'integrate' button is clicked\n",
    "    scentre.reset()\n",
    "    samp.reset()\n",
    "    ssig.reset()\n",
    "button2.on_clicked(reset)\n",
    "\n",
    "#rax = plt.axes([0.025, 0.5, 0.15, 0.15], facecolor=axcolor) #position of colour label\n",
    "#radio = RadioButtons(rax, ('cyan', 'magenta', 'yellow'), active=0) #creation of colour label\n",
    "#def colorfunc(label):\n",
    "#    l.set_color(label)\n",
    "#    fig.canvas.draw_idle()\n",
    "#radio.on_clicked(colorfunc) #changes colour accordingly\n",
    "\n",
    "\n",
    "plt.show()"
   ]
  },
  {
   "cell_type": "code",
   "execution_count": null,
   "metadata": {},
   "outputs": [],
   "source": []
  }
 ],
 "metadata": {
  "kernelspec": {
   "display_name": "Python 3",
   "language": "python",
   "name": "python3"
  },
  "language_info": {
   "codemirror_mode": {
    "name": "ipython",
    "version": 3
   },
   "file_extension": ".py",
   "mimetype": "text/x-python",
   "name": "python",
   "nbconvert_exporter": "python",
   "pygments_lexer": "ipython3",
   "version": "3.7.6"
  }
 },
 "nbformat": 4,
 "nbformat_minor": 4
}
